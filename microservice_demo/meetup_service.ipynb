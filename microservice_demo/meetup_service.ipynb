{
 "cells": [
  {
   "cell_type": "code",
   "execution_count": null,
   "metadata": {
    "collapsed": false
   },
   "outputs": [],
   "source": [
    "import requests, os, json\n",
    "ALCHEMY_KEY = os.getenv('ALCHEMY_KEY')\n",
    "MEETUP_KEY = os.getenv('MEETUP_KEY')\n",
    "TOPIC = os.getenv('TOPIC', 'bluemix')"
   ]
  },
  {
   "cell_type": "code",
   "execution_count": null,
   "metadata": {
    "collapsed": true
   },
   "outputs": [],
   "source": [
    "# GET /locations\n",
    "'''\n",
    "Check an arbitrary string against the Alchemy entity extraction, using the set key\n",
    "'''\n",
    "resp = requests.post('http://gateway-a.watsonplatform.net/calls/text/TextGetRankedNamedEntities', params=dict(\n",
    "        apikey=ALCHEMY_KEY, \n",
    "        text=json.loads(REQUEST)['args']['where'],\n",
    "        outputMode='json'\n",
    "))\n",
    "resp.raise_for_status()\n",
    "named_entities = resp.json()['entities']\n",
    "resp.text"
   ]
  },
  {
   "cell_type": "code",
   "execution_count": null,
   "metadata": {
    "collapsed": true
   },
   "outputs": [],
   "source": [
    "# GET /groups\n",
    "# find active groups using the location search to get more accurate location info\n",
    "resp = requests.get('https://api.meetup.com/find/groups', params=dict(\n",
    "        location=json.loads(REQUEST)['args']['city'],\n",
    "        text=TOPIC,\n",
    "        order='distance',\n",
    "        key=MEETUP_KEY,\n",
    "        sign='true'\n",
    "    ))\n",
    "resp.raise_for_status()\n",
    "resp.json()\n",
    "group_locations = [\n",
    "    {'city':group['city'], 'state':group['state'], 'country':group['country']} for group in resp.json()\n",
    "]\n",
    "json.dumps(group_locations)"
   ]
  },
  {
   "cell_type": "code",
   "execution_count": null,
   "metadata": {
    "collapsed": true
   },
   "outputs": [],
   "source": [
    "# GET /echo\n",
    "REQUEST"
   ]
  },
  {
   "cell_type": "code",
   "execution_count": null,
   "metadata": {
    "collapsed": true
   },
   "outputs": [],
   "source": [
    "# POST /echo\n",
    "REQUEST"
   ]
  },
  {
   "cell_type": "code",
   "execution_count": null,
   "metadata": {
    "collapsed": false
   },
   "outputs": [],
   "source": [
    "# POST /generate_search_url\n",
    "'''\n",
    "Find city information from the posted body, use that the find\n",
    "nearby open groups, and use the group location to do a better\n",
    "search for upcoming open events.\n",
    "'''\n",
    "# find the city's name\n",
    "resp = requests.get('http://gateway-a.watsonplatform.net/calls/text/TextGetRankedNamedEntities', params=dict(\n",
    "        apikey=ALCHEMY_KEY, \n",
    "        text=json.loads(REQUEST)['body']['text'],\n",
    "        outputMode='json'\n",
    "))\n",
    "resp.raise_for_status()\n",
    "named_entities = resp.json()['entities']\n",
    "cities = [\n",
    "    entity['text'] for entity in named_entities\n",
    "        if entity['type'] == 'City'\n",
    "]\n",
    "\n",
    "mentioned_city = cities[0]\n",
    "\n",
    "# find nearby active open groups\n",
    "resp = requests.get('https://api.meetup.com/find/groups', params=dict(\n",
    "        location=mentioned_city,\n",
    "        text=TOPIC,\n",
    "        order='distance',\n",
    "        key=MEETUP_KEY,\n",
    "        sign='true'\n",
    "    ))\n",
    "resp.raise_for_status()\n",
    "\n",
    "# use the closest group's location info for the event search \n",
    "group_locations = [\n",
    "    {'city':group['city'], 'state':group['state'], 'country':group['country']} for group in resp.json()\n",
    "]\n",
    "\n",
    "result = '{}'\n",
    "if len(group_locations) > 0:\n",
    "    resp2 = requests.get('http://api.meetup.com/2/open_events', params=dict(\n",
    "        key=MEETUP_KEY,\n",
    "        city=group_locations[0]['city'],\n",
    "        state=group_locations[0]['state'],\n",
    "        country=group_locations[0]['country'],\n",
    "        text=TOPIC,\n",
    "        sign='true',\n",
    "        radius=50\n",
    "    ))\n",
    "    resp2.raise_for_status()\n",
    "    result = resp2.json()['meta']['signed_url']\n",
    "\n",
    "result"
   ]
  }
 ],
 "metadata": {
  "kernelspec": {
   "display_name": "Python 3",
   "language": "python",
   "name": "python3"
  },
  "language_info": {
   "codemirror_mode": {
    "name": "ipython",
    "version": 3
   },
   "file_extension": ".py",
   "mimetype": "text/x-python",
   "name": "python",
   "nbconvert_exporter": "python",
   "pygments_lexer": "ipython3",
   "version": "3.4.3"
  }
 },
 "nbformat": 4,
 "nbformat_minor": 0
}
