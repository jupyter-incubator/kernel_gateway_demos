{
 "cells": [
  {
   "cell_type": "code",
   "execution_count": null,
   "metadata": {
    "collapsed": false
   },
   "outputs": [],
   "source": [
    "import requests, os, json\n",
    "ALCHEMY_KEY = os.getenv('ALCHEMY_KEY')\n",
    "TOPIC = os.getenv('TOPIC', 'bluemix')"
   ]
  },
  {
   "cell_type": "code",
   "execution_count": null,
   "metadata": {
    "collapsed": true
   },
   "outputs": [],
   "source": []
  },
  {
   "cell_type": "code",
   "execution_count": null,
   "metadata": {
    "collapsed": true
   },
   "outputs": [],
   "source": [
    "# GET /_echo\n",
    "print(REQUEST)"
   ]
  },
  {
   "cell_type": "code",
   "execution_count": null,
   "metadata": {
    "collapsed": true
   },
   "outputs": [],
   "source": [
    "# POST /_echo\n",
    "print(REQUEST)"
   ]
  },
  {
   "cell_type": "code",
   "execution_count": null,
   "metadata": {
    "collapsed": true
   },
   "outputs": [],
   "source": [
    "# GET /_city\n",
    "'''\n",
    "Check an arbitrary string against the Alchemy entity extraction, using the set key\n",
    "'''\n",
    "# find the city's name\n",
    "resp = requests.get('http://gateway-a.watsonplatform.net/calls/text/TextGetRankedNamedEntities', params=dict(\n",
    "        apikey=ALCHEMY_KEY, \n",
    "        text=json.loads(REQUEST)['args']['text'],\n",
    "        outputMode='json'\n",
    "))\n",
    "resp.raise_for_status()\n",
    "print(resp.text)"
   ]
  },
  {
   "cell_type": "code",
   "execution_count": null,
   "metadata": {
    "collapsed": false
   },
   "outputs": [],
   "source": [
    "# GET /generate_search_url\n",
    "'''\n",
    "Find city information from the given text, use that to\n",
    "set up a meetup.com search page\n",
    "'''\n",
    "# find the city's name\n",
    "resp = requests.get('http://gateway-a.watsonplatform.net/calls/text/TextGetRankedNamedEntities', params=dict(\n",
    "        apikey=ALCHEMY_KEY, \n",
    "        text=json.loads(REQUEST)['args']['text'],\n",
    "        outputMode='json'\n",
    "))\n",
    "resp.raise_for_status()\n",
    "named_entities = resp.json()['entities']\n",
    "cities = [\n",
    "    entity['text'] for entity in named_entities\n",
    "        if entity['type'] == 'City'\n",
    "]\n",
    "if len(cities) > 0:\n",
    "    mentioned_city = cities[0]\n",
    "    print('http://www.meetup.com/find/events/?allMeetups=false&keywords={topic}&radius=50&userFreeform={city}&change=yes&eventFilter=mysugg'.format(city=mentioned_city, topic=TOPIC))\n"
   ]
  }
 ],
 "metadata": {
  "kernelspec": {
   "display_name": "Python 3",
   "language": "python",
   "name": "python3"
  },
  "language_info": {
   "codemirror_mode": {
    "name": "ipython",
    "version": 3
   },
   "file_extension": ".py",
   "mimetype": "text/x-python",
   "name": "python",
   "nbconvert_exporter": "python",
   "pygments_lexer": "ipython3",
   "version": "3.4.3"
  }
 },
 "nbformat": 4,
 "nbformat_minor": 0
}
